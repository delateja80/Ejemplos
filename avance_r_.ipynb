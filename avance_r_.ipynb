{
  "nbformat": 4,
  "nbformat_minor": 0,
  "metadata": {
    "colab": {
      "provenance": [],
      "authorship_tag": "ABX9TyNiAa3wD1ph+g4brl3TwgRZ",
      "include_colab_link": true
    },
    "kernelspec": {
      "name": "ir",
      "display_name": "R"
    },
    "language_info": {
      "name": "R"
    }
  },
  "cells": [
    {
      "cell_type": "markdown",
      "metadata": {
        "id": "view-in-github",
        "colab_type": "text"
      },
      "source": [
        "<a href=\"https://colab.research.google.com/github/delateja80/Ejemplos/blob/main/avance_r_.ipynb\" target=\"_parent\"><img src=\"https://colab.research.google.com/assets/colab-badge.svg\" alt=\"Open In Colab\"/></a>"
      ]
    },
    {
      "cell_type": "code",
      "execution_count": 1,
      "metadata": {
        "id": "QZCY8D65mhWg",
        "colab": {
          "base_uri": "https://localhost:8080/"
        },
        "outputId": "c75c694e-92d6-4cf9-eb58-23882eb769ba"
      },
      "outputs": [
        {
          "output_type": "stream",
          "name": "stdout",
          "text": [
            "[1] \"hola\"\n"
          ]
        }
      ],
      "source": [
        "print(\"hola\")"
      ]
    },
    {
      "cell_type": "code",
      "source": [
        "mean(c(1,5,6,2,3,4))"
      ],
      "metadata": {
        "colab": {
          "base_uri": "https://localhost:8080/",
          "height": 34
        },
        "id": "mgbfDE8Apyrf",
        "outputId": "ddd00728-4c70-41bf-9fbd-d3032944c421"
      },
      "execution_count": 2,
      "outputs": [
        {
          "output_type": "display_data",
          "data": {
            "text/html": [
              "3.5"
            ],
            "text/markdown": "3.5",
            "text/latex": "3.5",
            "text/plain": [
              "[1] 3.5"
            ]
          },
          "metadata": {}
        }
      ]
    },
    {
      "cell_type": "code",
      "source": [
        "a<-c(1,7,8,10,25)\n",
        "mean(a)"
      ],
      "metadata": {
        "colab": {
          "base_uri": "https://localhost:8080/",
          "height": 34
        },
        "id": "qVXTxVM1p9mO",
        "outputId": "8d442040-8fdc-4685-a5f0-f6c4d8ff649d"
      },
      "execution_count": 4,
      "outputs": [
        {
          "output_type": "display_data",
          "data": {
            "text/html": [
              "10.2"
            ],
            "text/markdown": "10.2",
            "text/latex": "10.2",
            "text/plain": [
              "[1] 10.2"
            ]
          },
          "metadata": {}
        }
      ]
    },
    {
      "cell_type": "code",
      "source": [
        "sd(a)"
      ],
      "metadata": {
        "colab": {
          "base_uri": "https://localhost:8080/",
          "height": 34
        },
        "id": "2FPjSu84qKXT",
        "outputId": "fbf348bf-e803-4144-9170-48bdc1d3e6da"
      },
      "execution_count": 5,
      "outputs": [
        {
          "output_type": "display_data",
          "data": {
            "text/html": [
              "8.92748564826626"
            ],
            "text/markdown": "8.92748564826626",
            "text/latex": "8.92748564826626",
            "text/plain": [
              "[1] 8.927486"
            ]
          },
          "metadata": {}
        }
      ]
    },
    {
      "cell_type": "code",
      "source": [
        "help(mean)"
      ],
      "metadata": {
        "id": "nHDyrsqHqfdh"
      },
      "execution_count": 6,
      "outputs": []
    },
    {
      "cell_type": "code",
      "source": [
        "citation()"
      ],
      "metadata": {
        "colab": {
          "base_uri": "https://localhost:8080/",
          "height": 379
        },
        "id": "JuZG6b9IqyoU",
        "outputId": "c68d96b0-03b9-4d59-88ff-5e8a9d9c6ed0"
      },
      "execution_count": 7,
      "outputs": [
        {
          "output_type": "display_data",
          "data": {
            "text/plain": [
              "To cite R in publications use:\n",
              "\n",
              "  R Core Team (2024). _R: A Language and Environment for Statistical\n",
              "  Computing_. R Foundation for Statistical Computing, Vienna, Austria.\n",
              "  <https://www.R-project.org/>.\n",
              "\n",
              "A BibTeX entry for LaTeX users is\n",
              "\n",
              "  @Manual{,\n",
              "    title = {R: A Language and Environment for Statistical Computing},\n",
              "    author = {{R Core Team}},\n",
              "    organization = {R Foundation for Statistical Computing},\n",
              "    address = {Vienna, Austria},\n",
              "    year = {2024},\n",
              "    url = {https://www.R-project.org/},\n",
              "  }\n",
              "\n",
              "We have invested a lot of time and effort in creating R, please cite it\n",
              "when using it for data analysis. See also ‘citation(\"pkgname\")’ for\n",
              "citing R packages."
            ]
          },
          "metadata": {}
        }
      ]
    },
    {
      "cell_type": "code",
      "source": [
        "(3 + exp(2)) / sin(pi)\n",
        "1 + 2 * 3\n",
        "(1 + 2)* 3\n",
        "# ejemplos pg23\n",
        "1 + 1\n",
        "2 * 2\n",
        "2 + 10 / 5\n",
        "(2 + 10) /5\n",
        "10^2 + 1\n",
        "sqrt(9)\n",
        "pi\n",
        "print(pi, digits = 22)\n",
        "sin(pi)\n",
        "log(100)\n",
        "log10(100)\n",
        "log2(8)\n",
        "exp(1)"
      ],
      "metadata": {
        "colab": {
          "base_uri": "https://localhost:8080/",
          "height": 296
        },
        "id": "nZr_auxbrb-p",
        "outputId": "11b7d381-e44b-48c8-d15f-cc762c716529"
      },
      "execution_count": 12,
      "outputs": [
        {
          "output_type": "display_data",
          "data": {
            "text/html": [
              "84833080902705296"
            ],
            "text/markdown": "84833080902705296",
            "text/latex": "84833080902705296",
            "text/plain": [
              "[1] 8.483308e+16"
            ]
          },
          "metadata": {}
        },
        {
          "output_type": "display_data",
          "data": {
            "text/html": [
              "7"
            ],
            "text/markdown": "7",
            "text/latex": "7",
            "text/plain": [
              "[1] 7"
            ]
          },
          "metadata": {}
        },
        {
          "output_type": "display_data",
          "data": {
            "text/html": [
              "9"
            ],
            "text/markdown": "9",
            "text/latex": "9",
            "text/plain": [
              "[1] 9"
            ]
          },
          "metadata": {}
        },
        {
          "output_type": "display_data",
          "data": {
            "text/html": [
              "2"
            ],
            "text/markdown": "2",
            "text/latex": "2",
            "text/plain": [
              "[1] 2"
            ]
          },
          "metadata": {}
        },
        {
          "output_type": "display_data",
          "data": {
            "text/html": [
              "4"
            ],
            "text/markdown": "4",
            "text/latex": "4",
            "text/plain": [
              "[1] 4"
            ]
          },
          "metadata": {}
        },
        {
          "output_type": "display_data",
          "data": {
            "text/html": [
              "4"
            ],
            "text/markdown": "4",
            "text/latex": "4",
            "text/plain": [
              "[1] 4"
            ]
          },
          "metadata": {}
        },
        {
          "output_type": "display_data",
          "data": {
            "text/html": [
              "2.4"
            ],
            "text/markdown": "2.4",
            "text/latex": "2.4",
            "text/plain": [
              "[1] 2.4"
            ]
          },
          "metadata": {}
        },
        {
          "output_type": "display_data",
          "data": {
            "text/html": [
              "101"
            ],
            "text/markdown": "101",
            "text/latex": "101",
            "text/plain": [
              "[1] 101"
            ]
          },
          "metadata": {}
        },
        {
          "output_type": "display_data",
          "data": {
            "text/html": [
              "3"
            ],
            "text/markdown": "3",
            "text/latex": "3",
            "text/plain": [
              "[1] 3"
            ]
          },
          "metadata": {}
        },
        {
          "output_type": "display_data",
          "data": {
            "text/html": [
              "3.14159265358979"
            ],
            "text/markdown": "3.14159265358979",
            "text/latex": "3.14159265358979",
            "text/plain": [
              "[1] 3.141593"
            ]
          },
          "metadata": {}
        },
        {
          "output_type": "stream",
          "name": "stdout",
          "text": [
            "[1] 3.141592653589793115998\n"
          ]
        },
        {
          "output_type": "display_data",
          "data": {
            "text/html": [
              "1.22464679914735e-16"
            ],
            "text/markdown": "1.22464679914735e-16",
            "text/latex": "1.22464679914735e-16",
            "text/plain": [
              "[1] 1.224647e-16"
            ]
          },
          "metadata": {}
        },
        {
          "output_type": "display_data",
          "data": {
            "text/html": [
              "4.60517018598809"
            ],
            "text/markdown": "4.60517018598809",
            "text/latex": "4.60517018598809",
            "text/plain": [
              "[1] 4.60517"
            ]
          },
          "metadata": {}
        },
        {
          "output_type": "display_data",
          "data": {
            "text/html": [
              "2"
            ],
            "text/markdown": "2",
            "text/latex": "2",
            "text/plain": [
              "[1] 2"
            ]
          },
          "metadata": {}
        },
        {
          "output_type": "display_data",
          "data": {
            "text/html": [
              "3"
            ],
            "text/markdown": "3",
            "text/latex": "3",
            "text/plain": [
              "[1] 3"
            ]
          },
          "metadata": {}
        },
        {
          "output_type": "display_data",
          "data": {
            "text/html": [
              "2.71828182845905"
            ],
            "text/markdown": "2.71828182845905",
            "text/latex": "2.71828182845905",
            "text/plain": [
              "[1] 2.718282"
            ]
          },
          "metadata": {}
        }
      ]
    },
    {
      "cell_type": "markdown",
      "source": [
        "#Variables\n",
        "ej: a <- 10\n",
        "\n",
        "ej: a y A diferentes\n",
        "\n",
        "ej: my.variable.temperaturas"
      ],
      "metadata": {
        "id": "ccC6g_Mhs4RK"
      }
    },
    {
      "cell_type": "code",
      "source": [
        "a <- 1\n",
        "a + 1\n",
        "a\n",
        "b <- 10\n",
        "b <- a + b\n",
        "b\n",
        "3e-2 * 2.0\n"
      ],
      "metadata": {
        "colab": {
          "base_uri": "https://localhost:8080/",
          "height": 86
        },
        "id": "_OPXCngos3Qo",
        "outputId": "a7b8b382-478f-4791-9469-91d2c0140935"
      },
      "execution_count": 13,
      "outputs": [
        {
          "output_type": "display_data",
          "data": {
            "text/html": [
              "2"
            ],
            "text/markdown": "2",
            "text/latex": "2",
            "text/plain": [
              "[1] 2"
            ]
          },
          "metadata": {}
        },
        {
          "output_type": "display_data",
          "data": {
            "text/html": [
              "1"
            ],
            "text/markdown": "1",
            "text/latex": "1",
            "text/plain": [
              "[1] 1"
            ]
          },
          "metadata": {}
        },
        {
          "output_type": "display_data",
          "data": {
            "text/html": [
              "11"
            ],
            "text/markdown": "11",
            "text/latex": "11",
            "text/plain": [
              "[1] 11"
            ]
          },
          "metadata": {}
        },
        {
          "output_type": "display_data",
          "data": {
            "text/html": [
              "0.06"
            ],
            "text/markdown": "0.06",
            "text/latex": "0.06",
            "text/plain": [
              "[1] 0.06"
            ]
          },
          "metadata": {}
        }
      ]
    },
    {
      "cell_type": "markdown",
      "source": [
        "El uso de print en las variabes es implicito"
      ],
      "metadata": {
        "id": "j9HuWC-cuFTz"
      }
    },
    {
      "cell_type": "code",
      "source": [
        "a\n",
        "print(a)\n",
        "a+1\n",
        "print(a+1)"
      ],
      "metadata": {
        "colab": {
          "base_uri": "https://localhost:8080/",
          "height": 88
        },
        "id": "CKGKLSr3uEeW",
        "outputId": "ae082f00-ce5a-44ba-be2e-50637be5bef6"
      },
      "execution_count": 14,
      "outputs": [
        {
          "output_type": "display_data",
          "data": {
            "text/html": [
              "1"
            ],
            "text/markdown": "1",
            "text/latex": "1",
            "text/plain": [
              "[1] 1"
            ]
          },
          "metadata": {}
        },
        {
          "output_type": "stream",
          "name": "stdout",
          "text": [
            "[1] 1\n"
          ]
        },
        {
          "output_type": "display_data",
          "data": {
            "text/html": [
              "2"
            ],
            "text/markdown": "2",
            "text/latex": "2",
            "text/plain": [
              "[1] 2"
            ]
          },
          "metadata": {}
        },
        {
          "output_type": "stream",
          "name": "stdout",
          "text": [
            "[1] 2\n"
          ]
        }
      ]
    },
    {
      "cell_type": "markdown",
      "source": [
        "operados de asignación\n",
        "\n",
        "variable1 <- valor"
      ],
      "metadata": {
        "id": "aJbpMt4QujoK"
      }
    },
    {
      "cell_type": "code",
      "source": [
        "a <- b <- c <- 0.0\n",
        "a\n",
        "b\n",
        "c\n",
        "1 -> a\n",
        "a\n",
        "a = 3\n",
        "a"
      ],
      "metadata": {
        "colab": {
          "base_uri": "https://localhost:8080/",
          "height": 104
        },
        "id": "OL5yI-B0uvIK",
        "outputId": "6b0e1e6f-bbc1-4455-b756-b5682fce66b3"
      },
      "execution_count": 15,
      "outputs": [
        {
          "output_type": "display_data",
          "data": {
            "text/html": [
              "0"
            ],
            "text/markdown": "0",
            "text/latex": "0",
            "text/plain": [
              "[1] 0"
            ]
          },
          "metadata": {}
        },
        {
          "output_type": "display_data",
          "data": {
            "text/html": [
              "0"
            ],
            "text/markdown": "0",
            "text/latex": "0",
            "text/plain": [
              "[1] 0"
            ]
          },
          "metadata": {}
        },
        {
          "output_type": "display_data",
          "data": {
            "text/html": [
              "0"
            ],
            "text/markdown": "0",
            "text/latex": "0",
            "text/plain": [
              "[1] 0"
            ]
          },
          "metadata": {}
        },
        {
          "output_type": "display_data",
          "data": {
            "text/html": [
              "1"
            ],
            "text/markdown": "1",
            "text/latex": "1",
            "text/plain": [
              "[1] 1"
            ]
          },
          "metadata": {}
        },
        {
          "output_type": "display_data",
          "data": {
            "text/html": [
              "3"
            ],
            "text/markdown": "3",
            "text/latex": "3",
            "text/plain": [
              "[1] 3"
            ]
          },
          "metadata": {}
        }
      ]
    }
  ]
}